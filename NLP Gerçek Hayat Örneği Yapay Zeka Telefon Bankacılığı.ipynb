{
 "cells": [
  {
   "cell_type": "code",
   "execution_count": 3,
   "id": "336fe59c-55b8-47d0-a8b8-bbf3ebfe5320",
   "metadata": {},
   "outputs": [],
   "source": [
    "import pandas as pd\n",
    "import numpy as np\n",
    "from sklearn.feature_extraction.text import CountVectorizer\n",
    "from sklearn.ensemble import RandomForestClassifier\n",
    "from sklearn.model_selection import train_test_split"
   ]
  },
  {
   "cell_type": "code",
   "execution_count": 4,
   "id": "5b084c5c-c877-4e8a-b123-00ec7280d051",
   "metadata": {},
   "outputs": [
    {
     "name": "stdin",
     "output_type": "stream",
     "text": [
      "Yapmak İstediniz İşlemi Giriniz. 2\n"
     ]
    },
    {
     "name": "stdout",
     "output_type": "stream",
     "text": [
      "Sonuc: ['paragonderme'] Skor: 1.0\n"
     ]
    }
   ],
   "source": [
    "df=pd.read_csv('banka.csv')\n",
    "df=df[['sorgu','label']]\n",
    "stopwords=['fakat','lakin','ancak','acaba', 'ama', 'aslında', 'az', 'bazı', 'belki', 'biri', 'birkaç', 'birşey', 'biz', 'bu', 'çok', 'çünkü', 'da', 'daha', 'de', 'defa', 'diye', 'eğer', 'en', 'gibi', 'hem', 'hep', 'hepsi', 'her', 'hiç', 'için', 'ile', 'ise', 'kez', 'ki', 'kim', 'mı', 'mu', 'mü', 'nasıl', 'ne', 'neden', 'nerde', 'nerede', 'nereye', 'niçin', 'niye', 'o', 'sanki', 'şey', 'siz', 'şu', 'tüm', 've', 'veya', 'ya', 'yani']\n",
    "\n",
    "mesaj=input(\"Yapmak İstediniz İşlemi Giriniz.\")\n",
    "\n",
    "mesajdf=pd.DataFrame({\"sorgu\":mesaj,\"label\":0},index=[42])\n",
    "\n",
    "df=pd.concat([df,mesajdf],ignore_index=True)\n",
    "\n",
    "\n",
    "\n",
    "for word in stopwords:\n",
    "    word=\" \"+word+\" \"\n",
    "    df['sorgu']=df['sorgu'].str.replace(word,\" \")\n",
    "\n",
    "cv=CountVectorizer(max_features=50)\n",
    "\n",
    "\n",
    "x=cv.fit_transform(df['sorgu']).toarray()\n",
    "y=df['label']\n",
    "\n",
    "\n",
    "tahmin=x[-1].copy()\n",
    "\n",
    "x=x[0:-1]\n",
    "y=y[0:-1]\n",
    "\n",
    "x_train,x_test,y_train,y_test=train_test_split(x,y,random_state=21,train_size=0.7)\n",
    "\n",
    "rf=RandomForestClassifier()\n",
    "model=rf.fit(x_train,y_train)\n",
    "skor=model.score(x_test,y_test)\n",
    "\n",
    "sonuc=model.predict([tahmin])\n",
    "\n",
    "print(\"Sonuc:\",sonuc,\"Skor:\",skor)\n",
    "\n"
   ]
  },
  {
   "cell_type": "code",
   "execution_count": 5,
   "id": "9ee09db0-a30d-4e7c-b0ea-87c9fb753dcd",
   "metadata": {},
   "outputs": [],
   "source": [
    "# LLM -> chargpt , bard , siri"
   ]
  },
  {
   "cell_type": "code",
   "execution_count": null,
   "id": "92f33d5f-b077-4656-a807-eaf4635b1d3e",
   "metadata": {},
   "outputs": [],
   "source": []
  }
 ],
 "metadata": {
  "kernelspec": {
   "display_name": "Python 3 (ipykernel)",
   "language": "python",
   "name": "python3"
  },
  "language_info": {
   "codemirror_mode": {
    "name": "ipython",
    "version": 3
   },
   "file_extension": ".py",
   "mimetype": "text/x-python",
   "name": "python",
   "nbconvert_exporter": "python",
   "pygments_lexer": "ipython3",
   "version": "3.13.0"
  }
 },
 "nbformat": 4,
 "nbformat_minor": 5
}
