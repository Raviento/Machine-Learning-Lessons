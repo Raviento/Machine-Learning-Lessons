{
 "cells": [
  {
   "cell_type": "code",
   "execution_count": 1,
   "id": "56dd924c-8eba-456f-8bf4-79d53dcf476f",
   "metadata": {},
   "outputs": [],
   "source": [
    "import pandas as pd\n",
    "import numpy as np\n",
    "from sklearn.feature_extraction.text import CountVectorizer"
   ]
  },
  {
   "cell_type": "code",
   "execution_count": 2,
   "id": "a9249b6e-04cb-4f77-b676-47c6f6d70025",
   "metadata": {},
   "outputs": [],
   "source": [
    "df=pd.DataFrame()"
   ]
  },
  {
   "cell_type": "code",
   "execution_count": 3,
   "id": "c26f03ce-8b52-47ff-bfb6-4448574ca4a1",
   "metadata": {},
   "outputs": [],
   "source": [
    "df['cumleler']=[\"ali bak\",\"ali ata bak\",\"bak ali bak\",\"ali güzel ata bak\",\"ışık ılık süt iç\",\"ışık süt iç\",\"iç ışık iç\"]"
   ]
  },
  {
   "cell_type": "code",
   "execution_count": 5,
   "id": "2a1244ae-0a16-48d3-95db-80368b9c28ea",
   "metadata": {},
   "outputs": [],
   "source": [
    "cv=CountVectorizer(max_features=5)"
   ]
  },
  {
   "cell_type": "code",
   "execution_count": 10,
   "id": "0f5b402b-1e09-4afe-83de-7de1b89dd3cf",
   "metadata": {},
   "outputs": [
    {
     "data": {
      "text/plain": [
       "array([[1, 1, 0, 0, 0],\n",
       "       [1, 1, 0, 0, 0],\n",
       "       [1, 2, 0, 0, 0],\n",
       "       [1, 1, 0, 0, 0],\n",
       "       [0, 0, 1, 1, 1],\n",
       "       [0, 0, 1, 1, 1],\n",
       "       [0, 0, 2, 0, 1]])"
      ]
     },
     "execution_count": 10,
     "metadata": {},
     "output_type": "execute_result"
    }
   ],
   "source": [
    "a=cv.fit_transform(df['cumleler']) # cümlelerdeki yoğun olan kelimelere index atayarak aralarında fark ve anlam oluşturur\n",
    "a.toarray()"
   ]
  },
  {
   "cell_type": "code",
   "execution_count": 11,
   "id": "5e9bc8d1-a89e-4b59-a6b3-c1eda87603df",
   "metadata": {},
   "outputs": [],
   "source": [
    "x=a.toarray()"
   ]
  },
  {
   "cell_type": "code",
   "execution_count": 12,
   "id": "f40f1ef9-a89d-4477-8ef0-ae3169066c4f",
   "metadata": {},
   "outputs": [
    {
     "data": {
      "text/plain": [
       "array(['ali', 'bak', 'iç', 'süt', 'ışık'], dtype=object)"
      ]
     },
     "execution_count": 12,
     "metadata": {},
     "output_type": "execute_result"
    }
   ],
   "source": [
    "cv.get_feature_names_out()"
   ]
  },
  {
   "cell_type": "code",
   "execution_count": 13,
   "id": "8a3aa6af-9edc-4a02-a736-85fcb497c217",
   "metadata": {},
   "outputs": [],
   "source": [
    "# stop words\n",
    "# bir ne mesela fakat gibi - sık kullanılan ve anlama çok bir faydası olmayan kelimelerin filtrelenmesi gerekir."
   ]
  },
  {
   "cell_type": "code",
   "execution_count": null,
   "id": "17392bd8-dee0-4b2e-99f5-290da00cd6db",
   "metadata": {},
   "outputs": [],
   "source": []
  }
 ],
 "metadata": {
  "kernelspec": {
   "display_name": "Python 3 (ipykernel)",
   "language": "python",
   "name": "python3"
  },
  "language_info": {
   "codemirror_mode": {
    "name": "ipython",
    "version": 3
   },
   "file_extension": ".py",
   "mimetype": "text/x-python",
   "name": "python",
   "nbconvert_exporter": "python",
   "pygments_lexer": "ipython3",
   "version": "3.13.0"
  }
 },
 "nbformat": 4,
 "nbformat_minor": 5
}
