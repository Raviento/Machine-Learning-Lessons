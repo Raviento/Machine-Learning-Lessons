{
 "cells": [
  {
   "cell_type": "code",
   "execution_count": 28,
   "id": "1a1a4c00-ead9-4b24-9837-4aec4b1b6ec8",
   "metadata": {},
   "outputs": [],
   "source": [
    "import warnings\n",
    "warnings.filterwarnings('ignore')\n",
    "\n",
    "from sklearn.linear_model import LinearRegression\n",
    "import pandas as pd"
   ]
  },
  {
   "cell_type": "code",
   "execution_count": 7,
   "id": "939a9d65-6f41-4b4a-8ecc-00143803a1e7",
   "metadata": {},
   "outputs": [],
   "source": [
    "df = pd.read_csv(\"Student_Marks.csv\")"
   ]
  },
  {
   "cell_type": "code",
   "execution_count": 9,
   "id": "7205e99a-81a8-4275-99e8-83c194a7190a",
   "metadata": {},
   "outputs": [
    {
     "data": {
      "text/html": [
       "<div>\n",
       "<style scoped>\n",
       "    .dataframe tbody tr th:only-of-type {\n",
       "        vertical-align: middle;\n",
       "    }\n",
       "\n",
       "    .dataframe tbody tr th {\n",
       "        vertical-align: top;\n",
       "    }\n",
       "\n",
       "    .dataframe thead th {\n",
       "        text-align: right;\n",
       "    }\n",
       "</style>\n",
       "<table border=\"1\" class=\"dataframe\">\n",
       "  <thead>\n",
       "    <tr style=\"text-align: right;\">\n",
       "      <th></th>\n",
       "      <th>number_courses</th>\n",
       "      <th>time_study</th>\n",
       "      <th>Marks</th>\n",
       "    </tr>\n",
       "  </thead>\n",
       "  <tbody>\n",
       "    <tr>\n",
       "      <th>0</th>\n",
       "      <td>3</td>\n",
       "      <td>4.508</td>\n",
       "      <td>19.202</td>\n",
       "    </tr>\n",
       "    <tr>\n",
       "      <th>1</th>\n",
       "      <td>4</td>\n",
       "      <td>0.096</td>\n",
       "      <td>7.734</td>\n",
       "    </tr>\n",
       "    <tr>\n",
       "      <th>2</th>\n",
       "      <td>4</td>\n",
       "      <td>3.133</td>\n",
       "      <td>13.811</td>\n",
       "    </tr>\n",
       "  </tbody>\n",
       "</table>\n",
       "</div>"
      ],
      "text/plain": [
       "   number_courses  time_study   Marks\n",
       "0               3       4.508  19.202\n",
       "1               4       0.096   7.734\n",
       "2               4       3.133  13.811"
      ]
     },
     "execution_count": 9,
     "metadata": {},
     "output_type": "execute_result"
    }
   ],
   "source": [
    " df.head(3)"
   ]
  },
  {
   "cell_type": "code",
   "execution_count": 10,
   "id": "29cf1ab1-11ab-4f08-bd87-0b0d86a296f4",
   "metadata": {},
   "outputs": [],
   "source": [
    "y = df[[\"Marks\"]] # Tahmin edeceğimiz şey\n",
    "x = df[[\"number_courses\",\"time_study\"]] # Tahmin için gerekli olan değişkenler"
   ]
  },
  {
   "cell_type": "code",
   "execution_count": 12,
   "id": "568eee0b-ac18-4fc6-ba8a-3b5be44336b2",
   "metadata": {},
   "outputs": [
    {
     "name": "stdout",
     "output_type": "stream",
     "text": [
      "<class 'pandas.core.frame.DataFrame'>\n",
      "RangeIndex: 100 entries, 0 to 99\n",
      "Data columns (total 3 columns):\n",
      " #   Column          Non-Null Count  Dtype  \n",
      "---  ------          --------------  -----  \n",
      " 0   number_courses  100 non-null    int64  \n",
      " 1   time_study      100 non-null    float64\n",
      " 2   Marks           100 non-null    float64\n",
      "dtypes: float64(2), int64(1)\n",
      "memory usage: 2.5 KB\n"
     ]
    }
   ],
   "source": [
    "df.info() # Data hakkında bilgi almak için"
   ]
  },
  {
   "cell_type": "code",
   "execution_count": 18,
   "id": "4208a652-ce80-4ada-b26d-6479c7c9a2b9",
   "metadata": {},
   "outputs": [],
   "source": [
    "l = LinearRegression() # liner regresyonu başlatıyoruz\n",
    "model = l.fit(x,y) # elimizdeki x'lerden y'yi bulması için eğitiyoruz"
   ]
  },
  {
   "cell_type": "code",
   "execution_count": 30,
   "id": "b2ede89f-2c8b-4986-a46b-46221faada7e",
   "metadata": {},
   "outputs": [
    {
     "data": {
      "text/plain": [
       "array([[1.86405074, 5.39917879]])"
      ]
     },
     "execution_count": 30,
     "metadata": {},
     "output_type": "execute_result"
    }
   ],
   "source": [
    "model.coef_ # Değikenlerin kat sayıları"
   ]
  },
  {
   "cell_type": "code",
   "execution_count": 31,
   "id": "6e8bf8ea-c7a7-4853-828b-cedc2cab020c",
   "metadata": {},
   "outputs": [
    {
     "data": {
      "text/plain": [
       "array([-7.45634623])"
      ]
     },
     "execution_count": 31,
     "metadata": {},
     "output_type": "execute_result"
    }
   ],
   "source": [
    "model.intercept_ # Sabit yani y = ax + b denklemindeki b değeri"
   ]
  },
  {
   "cell_type": "code",
   "execution_count": 29,
   "id": "952d43ce-e07b-4efe-ac17-e64e70d0c804",
   "metadata": {
    "scrolled": true
   },
   "outputs": [
    {
     "data": {
      "text/plain": [
       "array([[14.33334236]])"
      ]
     },
     "execution_count": 29,
     "metadata": {},
     "output_type": "execute_result"
    }
   ],
   "source": [
    "model.predict([[3,3]]) # Model girdilere göre tahmin yapıyor \"number_courses\",\"time_study\""
   ]
  },
  {
   "cell_type": "code",
   "execution_count": 25,
   "id": "d1b33bb8-d533-48fa-9b7d-e1268c403b6e",
   "metadata": {},
   "outputs": [
    {
     "data": {
      "text/plain": [
       "np.float64(55.299)"
      ]
     },
     "execution_count": 25,
     "metadata": {},
     "output_type": "execute_result"
    }
   ],
   "source": [
    "df[\"Marks\"].max() # verisetindeki maksimum not değeri"
   ]
  },
  {
   "cell_type": "code",
   "execution_count": 26,
   "id": "76b39ea5-064e-480a-89e0-629b63f3f249",
   "metadata": {},
   "outputs": [
    {
     "data": {
      "text/plain": [
       "0.9403656320238896"
      ]
     },
     "execution_count": 26,
     "metadata": {},
     "output_type": "execute_result"
    }
   ],
   "source": [
    "model.score(x,y) # Model başarı değeri %94 ama %6'lık bir hata payı var"
   ]
  },
  {
   "cell_type": "code",
   "execution_count": 32,
   "id": "1d42f9e3-a98f-4389-b3d8-0aaaecede34a",
   "metadata": {},
   "outputs": [
    {
     "data": {
      "text/html": [
       "<div>\n",
       "<style scoped>\n",
       "    .dataframe tbody tr th:only-of-type {\n",
       "        vertical-align: middle;\n",
       "    }\n",
       "\n",
       "    .dataframe tbody tr th {\n",
       "        vertical-align: top;\n",
       "    }\n",
       "\n",
       "    .dataframe thead th {\n",
       "        text-align: right;\n",
       "    }\n",
       "</style>\n",
       "<table border=\"1\" class=\"dataframe\">\n",
       "  <thead>\n",
       "    <tr style=\"text-align: right;\">\n",
       "      <th></th>\n",
       "      <th>number_courses</th>\n",
       "      <th>time_study</th>\n",
       "      <th>Marks</th>\n",
       "    </tr>\n",
       "  </thead>\n",
       "  <tbody>\n",
       "    <tr>\n",
       "      <th>0</th>\n",
       "      <td>3</td>\n",
       "      <td>4.508</td>\n",
       "      <td>19.202</td>\n",
       "    </tr>\n",
       "    <tr>\n",
       "      <th>1</th>\n",
       "      <td>4</td>\n",
       "      <td>0.096</td>\n",
       "      <td>7.734</td>\n",
       "    </tr>\n",
       "  </tbody>\n",
       "</table>\n",
       "</div>"
      ],
      "text/plain": [
       "   number_courses  time_study   Marks\n",
       "0               3       4.508  19.202\n",
       "1               4       0.096   7.734"
      ]
     },
     "execution_count": 32,
     "metadata": {},
     "output_type": "execute_result"
    }
   ],
   "source": [
    " df.head(2)"
   ]
  },
  {
   "cell_type": "code",
   "execution_count": 41,
   "id": "a99e8fdc-5c82-4711-a3be-9c5e94112d73",
   "metadata": {},
   "outputs": [],
   "source": [
    "s1 = model.predict([[3,4.508]])[0] # Mesela sıfırıncı indeksteki öğrencinin başarı notu 19.202 olmalı ama.."
   ]
  },
  {
   "cell_type": "code",
   "execution_count": 42,
   "id": "e7cbf80c-837c-4826-8ae8-7711e5707bd9",
   "metadata": {},
   "outputs": [
    {
     "data": {
      "text/plain": [
       "array([-0.17046682])"
      ]
     },
     "execution_count": 42,
     "metadata": {},
     "output_type": "execute_result"
    }
   ],
   "source": [
    "(19.202 - s1)/19.202 # bir sapma değerimiz var"
   ]
  },
  {
   "cell_type": "code",
   "execution_count": null,
   "id": "1ed1422b-5e79-4284-9d5a-c21cd3ca5007",
   "metadata": {},
   "outputs": [],
   "source": []
  }
 ],
 "metadata": {
  "kernelspec": {
   "display_name": "Python 3 (ipykernel)",
   "language": "python",
   "name": "python3"
  },
  "language_info": {
   "codemirror_mode": {
    "name": "ipython",
    "version": 3
   },
   "file_extension": ".py",
   "mimetype": "text/x-python",
   "name": "python",
   "nbconvert_exporter": "python",
   "pygments_lexer": "ipython3",
   "version": "3.13.0"
  }
 },
 "nbformat": 4,
 "nbformat_minor": 5
}
